{
 "cells": [
  {
   "cell_type": "code",
   "execution_count": 1,
   "metadata": {
    "collapsed": false
   },
   "outputs": [
    {
     "ename": "SyntaxError",
     "evalue": "invalid syntax (<ipython-input-1-d9cfbc12ccd2>, line 1)",
     "output_type": "error",
     "traceback": [
      "\u001b[0;36m  File \u001b[0;32m\"<ipython-input-1-d9cfbc12ccd2>\"\u001b[0;36m, line \u001b[0;32m1\u001b[0m\n\u001b[0;31m    prinr \"hello\"\u001b[0m\n\u001b[0m                ^\u001b[0m\n\u001b[0;31mSyntaxError\u001b[0m\u001b[0;31m:\u001b[0m invalid syntax\n"
     ]
    }
   ],
   "source": [
    "prinr \"hello\""
   ]
  },
  {
   "cell_type": "code",
   "execution_count": 2,
   "metadata": {
    "collapsed": false
   },
   "outputs": [
    {
     "name": "stdout",
     "output_type": "stream",
     "text": [
      "hello\n"
     ]
    }
   ],
   "source": [
    "print \"hello\""
   ]
  },
  {
   "cell_type": "code",
   "execution_count": 3,
   "metadata": {
    "collapsed": false
   },
   "outputs": [
    {
     "name": "stdout",
     "output_type": "stream",
     "text": [
      "30\n"
     ]
    }
   ],
   "source": [
    "print 10+20"
   ]
  },
  {
   "cell_type": "code",
   "execution_count": 4,
   "metadata": {
    "collapsed": false
   },
   "outputs": [
    {
     "ename": "SyntaxError",
     "evalue": "invalid syntax (<ipython-input-4-7009c522884b>, line 2)",
     "output_type": "error",
     "traceback": [
      "\u001b[0;36m  File \u001b[0;32m\"<ipython-input-4-7009c522884b>\"\u001b[0;36m, line \u001b[0;32m2\u001b[0m\n\u001b[0;31m    int a=10\u001b[0m\n\u001b[0m        ^\u001b[0m\n\u001b[0;31mSyntaxError\u001b[0m\u001b[0;31m:\u001b[0m invalid syntax\n"
     ]
    }
   ],
   "source": [
    "# Declaration variable\n",
    "int a=10\n",
    "float b=10.5\n",
    "c=true"
   ]
  },
  {
   "cell_type": "code",
   "execution_count": 5,
   "metadata": {
    "collapsed": false
   },
   "outputs": [
    {
     "ename": "NameError",
     "evalue": "name 'true' is not defined",
     "output_type": "error",
     "traceback": [
      "\u001b[0;31m\u001b[0m",
      "\u001b[0;31mNameError\u001b[0mTraceback (most recent call last)",
      "\u001b[0;32m<ipython-input-5-99dada2cc7b8>\u001b[0m in \u001b[0;36m<module>\u001b[0;34m()\u001b[0m\n\u001b[1;32m      2\u001b[0m \u001b[0ma\u001b[0m\u001b[0;34m=\u001b[0m\u001b[0;36m10\u001b[0m\u001b[0;34m\u001b[0m\u001b[0m\n\u001b[1;32m      3\u001b[0m \u001b[0mb\u001b[0m\u001b[0;34m=\u001b[0m\u001b[0;36m10.5\u001b[0m\u001b[0;34m\u001b[0m\u001b[0m\n\u001b[0;32m----> 4\u001b[0;31m \u001b[0mc\u001b[0m\u001b[0;34m=\u001b[0m \u001b[0mtrue\u001b[0m\u001b[0;34m\u001b[0m\u001b[0m\n\u001b[0m",
      "\u001b[0;31mNameError\u001b[0m: name 'true' is not defined"
     ]
    }
   ],
   "source": [
    "# Declaration variable\n",
    "a=10\n",
    "b=10.5\n",
    "c= true"
   ]
  },
  {
   "cell_type": "code",
   "execution_count": 6,
   "metadata": {
    "collapsed": false
   },
   "outputs": [
    {
     "name": "stdout",
     "output_type": "stream",
     "text": [
      "10\n",
      "10.5\n",
      "True\n"
     ]
    }
   ],
   "source": [
    "# Declaration variable\n",
    "a=10\n",
    "b=10.5\n",
    "c=True\n",
    "print a\n",
    "print b\n",
    "print c"
   ]
  },
  {
   "cell_type": "code",
   "execution_count": 7,
   "metadata": {
    "collapsed": false
   },
   "outputs": [
    {
     "name": "stdout",
     "output_type": "stream",
     "text": [
      "10\n",
      "1\n"
     ]
    }
   ],
   "source": [
    "# function with no inputs\n",
    "def function():\n",
    "    print 10\n",
    "    return 1\n",
    "print function()\n"
   ]
  },
  {
   "cell_type": "code",
   "execution_count": 8,
   "metadata": {
    "collapsed": false
   },
   "outputs": [
    {
     "ename": "IndentationError",
     "evalue": "unexpected indent (<ipython-input-8-33a8e9acb95a>, line 2)",
     "output_type": "error",
     "traceback": [
      "\u001b[0;36m  File \u001b[0;32m\"<ipython-input-8-33a8e9acb95a>\"\u001b[0;36m, line \u001b[0;32m2\u001b[0m\n\u001b[0;31m    b=2\u001b[0m\n\u001b[0m    ^\u001b[0m\n\u001b[0;31mIndentationError\u001b[0m\u001b[0;31m:\u001b[0m unexpected indent\n"
     ]
    }
   ],
   "source": [
    "    a=4\n",
    "    b=2\n",
    "    print a%b\n"
   ]
  },
  {
   "cell_type": "code",
   "execution_count": 17,
   "metadata": {
    "collapsed": false
   },
   "outputs": [
    {
     "name": "stdout",
     "output_type": "stream",
     "text": [
      "0\n",
      "100\n",
      "2.0\n",
      "hello\n"
     ]
    }
   ],
   "source": [
    "# math operation\n",
    "import math\n",
    "x=4%2\n",
    "print x\n",
    "y=10**2\n",
    "print y\n",
    "w=math.sqrt(4)\n",
    "print w\n",
    "c=\"hello\"\n",
    "print c"
   ]
  },
  {
   "cell_type": "code",
   "execution_count": 24,
   "metadata": {
    "collapsed": false
   },
   "outputs": [
    {
     "name": "stdout",
     "output_type": "stream",
     "text": [
      "o\n",
      "ell\n",
      "hello\n",
      "HELLO\n",
      "5\n"
     ]
    }
   ],
   "source": [
    "#string and index\n",
    "a=\"Hello\"\n",
    "print a[-1]\n",
    "print a[1:4]\n",
    "print a.lower()\n",
    "print a.upper()\n",
    "print len(a)"
   ]
  },
  {
   "cell_type": "code",
   "execution_count": 29,
   "metadata": {
    "collapsed": false
   },
   "outputs": [
    {
     "name": "stdout",
     "output_type": "stream",
     "text": [
      "the value of pie 3.14\n",
      "the value of pie3.14\n"
     ]
    }
   ],
   "source": [
    "pi=3.14\n",
    "print \"the value of pie\",pi\n",
    "print \"the value of pie\"+str(pi)"
   ]
  },
  {
   "cell_type": "code",
   "execution_count": 35,
   "metadata": {
    "collapsed": false
   },
   "outputs": [
    {
     "name": "stdout",
     "output_type": "stream",
     "text": [
      "i am fromcoimbatorei am frombangalore\n"
     ]
    },
    {
     "ename": "ValueError",
     "evalue": "unsupported format character 'S' (0x53) at index 11",
     "output_type": "error",
     "traceback": [
      "\u001b[0;31m\u001b[0m",
      "\u001b[0;31mValueError\u001b[0mTraceback (most recent call last)",
      "\u001b[0;32m<ipython-input-35-3cb94aafcf2b>\u001b[0m in \u001b[0;36m<module>\u001b[0;34m()\u001b[0m\n\u001b[1;32m      2\u001b[0m \u001b[0mb\u001b[0m\u001b[0;34m=\u001b[0m\u001b[0;34m\"bangalore\"\u001b[0m\u001b[0;34m\u001b[0m\u001b[0m\n\u001b[1;32m      3\u001b[0m \u001b[0;32mprint\u001b[0m \u001b[0;34m\"i am from\"\u001b[0m \u001b[0;34m+\u001b[0m \u001b[0ma\u001b[0m \u001b[0;34m+\u001b[0m \u001b[0;34m\"i am from\"\u001b[0m \u001b[0;34m+\u001b[0m \u001b[0mb\u001b[0m\u001b[0;34m\u001b[0m\u001b[0m\n\u001b[0;32m----> 4\u001b[0;31m \u001b[0;32mprint\u001b[0m \u001b[0;34m\"i am from %S i am working in %s\"\u001b[0m \u001b[0;34m%\u001b[0m\u001b[0;34m(\u001b[0m\u001b[0ma\u001b[0m\u001b[0;34m,\u001b[0m \u001b[0mb\u001b[0m\u001b[0;34m)\u001b[0m\u001b[0;34m\u001b[0m\u001b[0m\n\u001b[0m",
      "\u001b[0;31mValueError\u001b[0m: unsupported format character 'S' (0x53) at index 11"
     ]
    }
   ],
   "source": [
    "a=\"coimbatore\"\n",
    "b=\"bangalore\"\n",
    "print \"i am from\" + a + \"i am from\" + b\n",
    "print \"i am from %S i am working in %s\" %(a, b)"
   ]
  },
  {
   "cell_type": "code",
   "execution_count": 34,
   "metadata": {
    "cocalc": {
     "outputs": {
      "0": {
       "name": "input",
       "opts": {
        "password": false,
        "prompt": "name"
       },
       "output_type": "stream",
       "value": "jose"
      },
      "1": {
       "name": "input",
       "opts": {
        "password": false,
        "prompt": "number"
       },
       "output_type": "stream",
       "value": "123123"
      },
      "2": {
       "name": "input",
       "opts": {
        "password": false,
        "prompt": "ciyt"
       },
       "output_type": "stream",
       "value": "chennai"
      }
     }
    },
    "collapsed": false
   },
   "outputs": [
    {
     "name": "stdout",
     "output_type": "stream",
     "text": "name jose"
    },
    {
     "name": "stdout",
     "output_type": "stream",
     "text": "number 123123"
    },
    {
     "name": "stdout",
     "output_type": "stream",
     "text": "ciyt chennai"
    },
    {
     "name": "stdout",
     "output_type": "stream",
     "text": [
      "jose\n",
      "123123\n",
      "chennai\n"
     ]
    }
   ],
   "source": [
    "a=raw_input(\"name\")\n",
    "b=raw_input(\"number\")\n",
    "c=raw_input(\"ciyt\")\n",
    "print a\n",
    "print b\n",
    "print c"
   ]
  },
  {
   "cell_type": "code",
   "execution_count": 39,
   "metadata": {
    "collapsed": false
   },
   "outputs": [
    {
     "name": "stdout",
     "output_type": "stream",
     "text": [
      "2018-03-30 05:43:14.712496\n",
      "2018\n",
      "3\n"
     ]
    }
   ],
   "source": [
    "from datetime import datetime \n",
    "now = datetime.now()\n",
    "print now\n",
    "print now.year\n",
    "print now.month\n"
   ]
  },
  {
   "cell_type": "code",
   "execution_count": 41,
   "metadata": {
    "collapsed": false
   },
   "outputs": [
    {
     "name": "stdout",
     "output_type": "stream",
     "text": [
      "1\n"
     ]
    }
   ],
   "source": [
    "def notequaltoten(num):\n",
    "    if num < 10:\n",
    "        return -1\n",
    "    elif num == 10:\n",
    "        return 0\n",
    "    else :\n",
    "        return 1\n",
    "\n",
    "print notequaltoten(20)"
   ]
  },
  {
   "cell_type": "code",
   "execution_count": 52,
   "metadata": {
    "collapsed": false
   },
   "outputs": [
   ],
   "source": [
    "def bigandsmall(*arg):\n",
    "    print max(arg), min(arg)\n",
    "    print bigandsmall(-10,-5,0,10)"
   ]
  },
  {
   "cell_type": "code",
   "execution_count": 54,
   "metadata": {
    "collapsed": false
   },
   "outputs": [
    {
     "name": "stdout",
     "output_type": "stream",
     "text": [
      "<type 'float'>\n",
      "<type 'int'>\n",
      "<type 'str'>\n"
     ]
    }
   ],
   "source": [
    "#variable type\n",
    "x=5.0\n",
    "y=10\n",
    "z='rs'\n",
    "print type(x)\n",
    "print type(y)\n",
    "print type(z)"
   ]
  },
  {
   "cell_type": "code",
   "execution_count": 66,
   "metadata": {
    "collapsed": false
   },
   "outputs": [
    {
     "name": "stdout",
     "output_type": "stream",
     "text": [
      "dog\n",
      "['cat', 'dog', 'monkey', 'deer', 'lion']\n",
      "['cat', 'tiger', 'dog', 'monkey', 'deer', 'lion']\n"
     ]
    }
   ],
   "source": [
    "my_list=[\"cat\",\"dog\",\"monkey\",\"deer\",\"lion\"]\n",
    "print my_list[1]\n",
    "print my_list\n",
    "dog_index = my_list.index(\"dog\")\n",
    "my_list.insert(dog_index,\"tiger\")\n",
    "print my_list"
   ]
  },
  {
   "cell_type": "code",
   "execution_count": 69,
   "metadata": {
    "collapsed": false
   },
   "outputs": [
    {
     "name": "stdout",
     "output_type": "stream",
     "text": [
      "{'Age': 7, 'name': 'Zara', 'Class': 'First'}\n"
     ]
    }
   ],
   "source": [
    "#dictionary\n",
    "dict = {\"name\": \"Zara\", \"Age\": 7, \"Class\": \"First\"}\n",
    "print dict"
   ]
  },
  {
   "cell_type": "code",
   "execution_count": 72,
   "metadata": {
    "collapsed": false
   },
   "outputs": [
    {
     "name": "stdout",
     "output_type": "stream",
     "text": [
      "[1, 2, 3, 4, 5, 6]\n"
     ]
    }
   ],
   "source": [
    "num=[1,2,3,4,5]\n",
    "num.append(6)\n",
    "print num"
   ]
  },
  {
   "cell_type": "code",
   "execution_count": 80,
   "metadata": {
    "collapsed": false
   },
   "outputs": [
    {
     "name": "stdout",
     "output_type": "stream",
     "text": [
      "{'age': 21, 'name': 'meena', 'email': 'xyz@gmail.com'}\n",
      "meena\n",
      "21\n",
      "xyz@gmail.com\n",
      "['age', 'name', 'email']\n",
      "[21, 'meena', 'xyz@gmail.com']\n",
      "[('age', 21), ('name', 'meena'), ('email', 'xyz@gmail.com')]\n"
     ]
    }
   ],
   "source": [
    "dict={\"name\": \"meena\", \"age\": 21, \"email\":\"xyz@gmail.com\"}\n",
    "print dict\n",
    "print dict[\"name\"]\n",
    "print dict[\"age\"]\n",
    "print dict[\"email\"]\n",
    "print dict.keys() #keys\n",
    "print dict.values ()#values\n",
    "print dict.items() #items"
   ]
  },
  {
   "cell_type": "code",
   "execution_count": 0,
   "metadata": {
    "collapsed": false
   },
   "outputs": [
   ],
   "source": [
   ]
  }
 ],
 "metadata": {
  "kernelspec": {
   "display_name": "Python 2 (Ubuntu Linux)",
   "language": "python",
   "name": "python2-ubuntu"
  },
  "language_info": {
   "codemirror_mode": {
    "name": "ipython",
    "version": 2
   },
   "file_extension": ".py",
   "mimetype": "text/x-python",
   "name": "python",
   "nbconvert_exporter": "python",
   "pygments_lexer": "ipython2",
   "version": "2.7.12"
  }
 },
 "nbformat": 4,
 "nbformat_minor": 0
}